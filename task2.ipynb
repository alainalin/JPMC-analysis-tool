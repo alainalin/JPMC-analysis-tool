{
 "cells": [
  {
   "cell_type": "code",
   "execution_count": 38,
   "metadata": {
    "metadata": {}
   },
   "outputs": [],
   "source": [
    "## input will be from preprocess.py (task 1)\n",
    "# a Pandas dataframe with rows as dates, columns as daily return(float; daily % change in the value of the investment)\n",
    "# right now assuming that each company is a separate df\n",
    "\n",
    "# start with writing a function to create correlation, dissimilarity matrices for one single company\n",
    "\n",
    "import preprocess"
   ]
  },
  {
   "cell_type": "code",
   "execution_count": 39,
   "metadata": {
    "metadata": {}
   },
   "outputs": [
    {
     "ename": "AttributeError",
     "evalue": "'NoneType' object has no attribute 'sort'",
     "output_type": "error",
     "traceback": [
      "\u001b[0;31m---------------------------------------------------------------------------\u001b[0m",
      "\u001b[0;31mAttributeError\u001b[0m                            Traceback (most recent call last)",
      "Cell \u001b[0;32mIn[39], line 9\u001b[0m\n\u001b[1;32m      6\u001b[0m data_dir \u001b[38;5;241m=\u001b[39m \u001b[38;5;124m'\u001b[39m\u001b[38;5;124mdata/\u001b[39m\u001b[38;5;124m'\u001b[39m\n\u001b[1;32m      7\u001b[0m columns \u001b[38;5;241m=\u001b[39m [\u001b[38;5;124m'\u001b[39m\u001b[38;5;124mAdj Close\u001b[39m\u001b[38;5;124m'\u001b[39m, \u001b[38;5;124m'\u001b[39m\u001b[38;5;124mVolume\u001b[39m\u001b[38;5;124m'\u001b[39m]\n\u001b[0;32m----> 9\u001b[0m symbols \u001b[38;5;241m=\u001b[39m \u001b[43mpreprocess\u001b[49m\u001b[38;5;241;43m.\u001b[39;49m\u001b[43mgetSymbols\u001b[49m\u001b[43m(\u001b[49m\u001b[43m)\u001b[49m\n\u001b[1;32m     10\u001b[0m dataframes, failedSym \u001b[38;5;241m=\u001b[39m preprocess\u001b[38;5;241m.\u001b[39mdownloadData(data_dir, start_date, end_date, columns, symbols)\n\u001b[1;32m     11\u001b[0m preprocess\u001b[38;5;241m.\u001b[39maggregateAndPreprocess(data_dir, start_date, end_date, symbols, dataframes)\n",
      "File \u001b[0;32m~/Documents/GitHub/JPMC-analysis-tool/preprocess.py:16\u001b[0m, in \u001b[0;36mgetSymbols\u001b[0;34m()\u001b[0m\n\u001b[1;32m     14\u001b[0m company_data \u001b[38;5;241m=\u001b[39m pd\u001b[38;5;241m.\u001b[39mread_html(\u001b[38;5;124m'\u001b[39m\u001b[38;5;124mhttps://en.wikipedia.org/wiki/List_of_S\u001b[39m\u001b[38;5;124m%\u001b[39m\u001b[38;5;124m26P_500_companies#S\u001b[39m\u001b[38;5;124m%\u001b[39m\u001b[38;5;124m26P_500_component_stocks\u001b[39m\u001b[38;5;124m'\u001b[39m)[\u001b[38;5;241m0\u001b[39m]\n\u001b[1;32m     15\u001b[0m stock_symbols \u001b[38;5;241m=\u001b[39m \u001b[38;5;28mlist\u001b[39m(company_data\u001b[38;5;241m.\u001b[39mSymbol\u001b[38;5;241m.\u001b[39mvalues)\u001b[38;5;241m.\u001b[39mappend(\u001b[38;5;124m'\u001b[39m\u001b[38;5;124mSPY\u001b[39m\u001b[38;5;124m'\u001b[39m)\n\u001b[0;32m---> 16\u001b[0m \u001b[43mstock_symbols\u001b[49m\u001b[38;5;241;43m.\u001b[39;49m\u001b[43msort\u001b[49m()\n\u001b[1;32m     17\u001b[0m \u001b[38;5;28;01mreturn\u001b[39;00m stock_symbols\n",
      "\u001b[0;31mAttributeError\u001b[0m: 'NoneType' object has no attribute 'sort'"
     ]
    }
   ],
   "source": [
    "# adjust these dates to pick a week of particular interest\n",
    "# scale up later \n",
    "start_date = '2024-08-20'\n",
    "end_date = '2024-08-28'\n",
    "\n",
    "data_dir = 'data/'\n",
    "columns = ['Adj Close', 'Volume']\n",
    "\n",
    "symbols = preprocess.getSymbols()\n",
    "dataframes, failedSym = preprocess.downloadData(data_dir, start_date, end_date, columns, symbols)\n",
    "preprocess.aggregateAndPreprocess(data_dir, start_date, end_date, symbols, dataframes)\n",
    "\n",
    "#errors?"
   ]
  },
  {
   "cell_type": "code",
   "execution_count": 41,
   "metadata": {
    "metadata": {}
   },
   "outputs": [
    {
     "name": "stdout",
     "output_type": "stream",
     "text": [
      "Original Data:\n",
      "            MMM  GOOGL  ALL\n",
      "Date                       \n",
      "2024-08-27  0.6    0.6  0.3\n",
      "2024-08-28  0.7    0.8  0.2\n",
      "2024-08-29  0.5    0.9  0.7\n",
      "\n",
      "Correlation Matrix:\n",
      "            MMM     GOOGL       ALL\n",
      "MMM    1.000000 -0.327327 -0.944911\n",
      "GOOGL -0.327327  1.000000  0.618590\n",
      "ALL   -0.944911  0.618590  1.000000\n",
      "\n",
      "Absolute Correlation Matrix:\n",
      "            MMM     GOOGL       ALL\n",
      "MMM    1.000000  0.327327  0.944911\n",
      "GOOGL  0.327327  1.000000  0.618590\n",
      "ALL    0.944911  0.618590  1.000000\n"
     ]
    }
   ],
   "source": [
    "### This cell creates the absolute correlation matrix for the company daily return data.\n",
    "\n",
    "import pandas as pd\n",
    "\n",
    "# Placeholder df format, until interfaced with task 1 code\n",
    "data = {\n",
    "    'Date': ['2024-08-27', '2024-08-28', '2024-08-29'],\n",
    "    'MMM': [0.6, 0.7, 0.5],\n",
    "    'GOOGL': [0.6, 0.8, 0.9],\n",
    "    'ALL': [0.3, 0.2, 0.7]\n",
    "}\n",
    "\n",
    "# Create the DataFrame\n",
    "df = pd.DataFrame(data)\n",
    "\n",
    "# Set 'Date' as the index\n",
    "df.set_index('Date', inplace=True)\n",
    "\n",
    "print(\"Original Data:\")\n",
    "print(df)\n",
    "\n",
    "# Compute the correlation matrix\n",
    "correlation_matrix = df.corr()\n",
    "\n",
    "print(\"\\nCorrelation Matrix:\")\n",
    "print(correlation_matrix)\n",
    "\n",
    "# Convert to absolute correlation values\n",
    "absolute_correlation_matrix = correlation_matrix.abs()\n",
    "\n",
    "print(\"\\nAbsolute Correlation Matrix:\")\n",
    "print(absolute_correlation_matrix)"
   ]
  },
  {
   "cell_type": "code",
   "execution_count": 43,
   "metadata": {
    "metadata": {}
   },
   "outputs": [
    {
     "data": {
      "text/plain": [
       "Text(0.5, 1.0, 'Absolute Correlation Heatmap for Stock Daily Return')"
      ]
     },
     "execution_count": 43,
     "metadata": {},
     "output_type": "execute_result"
    },
    {
     "data": {
      "image/png": "[encoded data removed]",
      "text/plain": [
       "<Figure size 640x480 with 2 Axes>"
      ]
     },
     "metadata": {},
     "output_type": "display_data"
    }
   ],
   "source": [
    "### This cell creates a heatmap for the absolute correlation matrix\n",
    "\n",
    "import seaborn as sns\n",
    "\n",
    "sns.heatmap(absolute_correlation_matrix).set_title(\"Absolute Correlation Heatmap for Stock Daily Return\")"
   ]
  }
 ],
 "metadata": {
  "kernelspec": {
   "display_name": ".venv",
   "language": "python",
   "name": "python3"
  },
  "language_info": {
   "codemirror_mode": {
    "name": "ipython",
    "version": 3
   },
   "file_extension": ".py",
   "mimetype": "text/x-python",
   "name": "python",
   "nbconvert_exporter": "python",
   "pygments_lexer": "ipython3",
   "version": "3.11.6"
  }
 },
 "nbformat": 4,
 "nbformat_minor": 2
}
