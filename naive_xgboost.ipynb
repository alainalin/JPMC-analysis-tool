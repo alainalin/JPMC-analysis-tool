{
 "cells": [
  {
   "cell_type": "code",
   "execution_count": 1,
   "metadata": {},
   "outputs": [
    {
     "name": "stdout",
     "output_type": "stream",
     "text": [
      "          date         A       AAL      AAPL      ABBV      ABNB       ABT  \\\n",
      "0   2024-06-03  0.889681 -0.603454  0.469502 -0.792589  0.349934  0.153790   \n",
      "1   2024-06-04 -0.481854 -0.346620 -0.264434  0.295955  0.864075  0.081875   \n",
      "2   2024-06-05  2.123945  0.955688  0.124639  0.634790 -1.486685 -0.237806   \n",
      "3   2024-06-06  0.086028 -1.295334 -0.733231  0.933931  1.023988  0.416045   \n",
      "4   2024-06-07  0.593907  1.232397  1.033843 -0.664010  0.314642  3.035119   \n",
      "..         ...       ...       ...       ...       ...       ...       ...   \n",
      "58  2024-08-26 -0.439370 -2.109303  0.185217 -0.060739 -0.975609 -0.035481   \n",
      "59  2024-08-27  0.441351 -0.877194  0.898230 -1.045511  1.248911  0.035380   \n",
      "60  2024-08-28 -0.332086 -0.196661 -0.627410 -0.061380  1.318964 -0.176832   \n",
      "61  2024-08-29  0.323778  1.464849 -0.134730 -0.418371 -1.328594 -0.476612   \n",
      "62  2024-08-30  0.534605  1.239277 -0.516965  0.542892  0.316397  0.238935   \n",
      "\n",
      "        ACGL       ACN      ADBE  ...       WTW        WY      WYNN       XEL  \\\n",
      "0  -0.780491 -2.032576 -1.912507  ...  0.224731 -1.616281 -0.943465 -1.928498   \n",
      "1  -1.049740  1.789539  1.253328  ... -0.011998 -1.092266 -1.483354  0.016770   \n",
      "2  -0.884955  0.516637  1.471534  ... -0.564623 -0.790699  0.058131 -3.104742   \n",
      "3  -0.298860 -0.252022  0.093946  ...  0.229837  0.731817 -0.810343 -2.178726   \n",
      "4  -0.109258 -1.475187  1.593431  ... -0.110442 -0.520423  0.383631 -0.898013   \n",
      "..       ...       ...       ...  ...       ...       ...       ...       ...   \n",
      "58  0.458758  1.110848  0.794547  ...  1.105284 -2.135880 -0.528015  0.234975   \n",
      "59  0.829009  1.551409  2.420632  ...  0.685131 -1.461010 -0.012981 -1.904888   \n",
      "60 -0.081005 -0.930815 -1.351588  ...  0.249351 -1.491861 -1.568623 -1.571441   \n",
      "61  1.374909 -0.011759  0.454989  ...  0.641374 -1.271191  0.318722  0.038536   \n",
      "62  0.106219  0.278596  0.386222  ...  0.137120  0.000000  1.237812 -1.083891   \n",
      "\n",
      "         XOM       XYL       YUM       ZBH      ZBRA       ZTS  \n",
      "0  -2.376671 -2.094474  1.092504 -1.424338 -2.059854  1.129719  \n",
      "1  -1.088357 -1.051729  1.045530  0.157881 -0.398060  0.317174  \n",
      "2  -0.596538  1.308938 -1.248387 -0.916691  0.885831  1.447538  \n",
      "3   0.274746 -1.948559 -0.234379  0.549852  0.120472  1.054607  \n",
      "4  -1.705320  0.356150 -0.723447 -0.027727 -1.438312  0.341202  \n",
      "..       ...       ...       ...       ...       ...       ...  \n",
      "58  0.891640 -0.991727 -1.213856 -0.598337 -1.495877  0.287232  \n",
      "59 -1.075991 -0.368052  0.223549  0.000000  0.272386  0.065947  \n",
      "60 -0.410259 -0.228326  0.667899 -0.461993 -0.246607  0.444809  \n",
      "61  0.793516 -0.315707 -0.412339 -0.217543 -0.917674 -0.554621  \n",
      "62  0.984675  1.080407 -0.383937  0.443673  0.017374  0.218477  \n",
      "\n",
      "[63 rows x 502 columns]\n"
     ]
    }
   ],
   "source": [
    "import pandas as pd\n",
    "import numpy as np\n",
    "from sklearn.model_selection import train_test_split\n",
    "import xgboost as xgb\n",
    "\n",
    "# Load the dataset (replace with your actual file path)\n",
    "df = pd.read_csv('data/2024-06-01_2024-09-01/aggregated/percent_return.csv')\n",
    "\n",
    "# Extract stock names\n",
    "stock_names = df.columns[1:]  # Assuming the first column is the date\n",
    "\n",
    "print(df) #every 5th row is a friday"
   ]
  },
  {
   "cell_type": "code",
   "execution_count": 2,
   "metadata": {},
   "outputs": [],
   "source": [
    "# Prepare the data for Monday to Thursday (features) and Friday (target)\n",
    "X = []\n",
    "y = []\n",
    "\n",
    "# Iterate over the dataset in chunks of 5 rows (representing one week)\n",
    "for i in range(0, len(df), 5):\n",
    "    if i + 4 >= len(df):  # Prevent going out of bounds\n",
    "        break\n",
    "    # Monday to Thursday data (features)\n",
    "    X.extend(df.iloc[i:i+4, 1:].T.values.tolist()) # rows are companies\n",
    "    #X += df.iloc[i:i+4, 1:].T.values\n",
    "    # Friday data (target)\n",
    "    y.extend(df.iloc[i+4, 1:].T.values.tolist())  # Friday returns as target\n",
    "\n",
    "# Convert to numpy arrays\n",
    "X = np.array(X)\n",
    "y = np.array(y)\n",
    "\n",
    "# Train-test split (e.g., 80% training, 20% testing)\n",
    "X_train, X_test, y_train, y_test = train_test_split(X, y, test_size=0.2, random_state=42)"
   ]
  },
  {
   "cell_type": "code",
   "execution_count": 3,
   "metadata": {},
   "outputs": [
    {
     "name": "stdout",
     "output_type": "stream",
     "text": [
      "[0.59390747 1.23239743 1.03384276 ... 0.         0.27238552 0.06594702]\n",
      "[ 1.31331505 -1.14554792  1.2670157  ... -2.4526709   0.2984898\n",
      " -0.735158  ]\n"
     ]
    }
   ],
   "source": [
    "print(y)\n",
    "print(y_train)"
   ]
  },
  {
   "cell_type": "code",
   "execution_count": 4,
   "metadata": {},
   "outputs": [
    {
     "name": "stdout",
     "output_type": "stream",
     "text": [
      "[[ 0.8896813  -0.48185403  2.12394546  0.08602796]\n",
      " [-0.60345385 -0.34662012  0.9556877  -1.2953335 ]\n",
      " [ 0.46950243 -0.26443394  0.12463948 -0.73323124]\n",
      " ...\n",
      " [ 0.11606898  0.56747597  0.92105531 -0.59833719]\n",
      " [-1.05824727 -1.32656765  2.16462254 -1.49587749]\n",
      " [-0.74347986 -0.67608389 -1.07186192  0.28723171]]\n",
      "[-0.73710197 -0.70710398  3.48648896 -2.57812927]\n",
      "[[-0.73710197 -0.70710398  3.48648896 -2.57812927]\n",
      " [-1.33112282  0.02159564 -0.54288461 -2.12261179]\n",
      " [ 0.1646311  -0.18898568 -0.74940558 -2.14013712]\n",
      " ...\n",
      " [-1.77858887 -0.60129332  0.64930454  0.69509968]\n",
      " [-1.65513288 -0.49024986 -0.20232736  0.0897815 ]\n",
      " [ 3.20242991  1.38331594  1.52063763 -0.10624886]]\n"
     ]
    },
    {
     "data": {
      "text/plain": [
       "(1203, 4)"
      ]
     },
     "execution_count": 4,
     "metadata": {},
     "output_type": "execute_result"
    }
   ],
   "source": [
    "print(X) #many arrays of size 4\n",
    "print(X_train[0])\n",
    "print(X_train)\n",
    "X_test.shape"
   ]
  },
  {
   "cell_type": "code",
   "execution_count": 5,
   "metadata": {},
   "outputs": [
    {
     "name": "stdout",
     "output_type": "stream",
     "text": [
      "RMSE: 1.40396558616338\n"
     ]
    }
   ],
   "source": [
    "from sklearn.metrics import mean_squared_error\n",
    "\n",
    "# Train an XGBoost regression:squared error model - fine tuning parameters; importance to task\n",
    "model = xgb.XGBRegressor(objective='reg:squarederror', n_estimators=100, learning_rate=0.04, max_depth = 4)\n",
    "model.fit(X_train, y_train)\n",
    "\n",
    "# Evaluate the model on the test set\n",
    "predictions = model.predict(X_test)\n",
    "\n",
    "\n",
    "# Calculate RMSE\n",
    "rmse = np.sqrt(mean_squared_error(y_test, predictions))\n",
    "print(f\"RMSE: {rmse}\")"
   ]
  },
  {
   "cell_type": "code",
   "execution_count": 6,
   "metadata": {},
   "outputs": [
    {
     "name": "stdout",
     "output_type": "stream",
     "text": [
      "Baseline RMSE: 1.448624667762448\n",
      "Model Improvement: 0.04465908159906795\n"
     ]
    }
   ],
   "source": [
    "from sklearn.dummy import DummyRegressor\n",
    "\n",
    "# Baseline model that predicts the mean\n",
    "baseline_model = DummyRegressor(strategy=\"mean\")\n",
    "baseline_model.fit(X_train, y_train)\n",
    "baseline_predictions = baseline_model.predict(X_test)\n",
    "\n",
    "# Calculate RMSE for baseline\n",
    "baseline_rmse = np.sqrt(mean_squared_error(y_test, baseline_predictions))\n",
    "print(\"Baseline RMSE:\", baseline_rmse)\n",
    "print(\"Model Improvement:\", baseline_rmse - rmse)\n"
   ]
  },
  {
   "cell_type": "code",
   "execution_count": null,
   "metadata": {},
   "outputs": [],
   "source": [
    "# Define the parameter grid based on suggestions - not included: subsample(default 1), sampling_method(default uniform)\n",
    "param_dist = {\n",
    "    'learning_rate': [0.01, 0.02, 0.03, 0.04, 0.05, 0.1, 0.2],\n",
    "    'gamma': [0, 2, 4, 6, 8, 10],\n",
    "    'max_depth': [3, 4, 5, 6, 7],\n",
    "    'min_child_weight': [1, 2, 3, 4, 5, 6, 7, 8, 9, 10],\n",
    "    'max_delta_step': [0, 2, 4, 6, 8, 10],\n",
    "    'lambda': [0, 1, 2, 4, 6],\n",
    "    'n_estimators': [100, 150, 200, 250, 300],\n",
    "    'subsample': [0.5, 0.6, 0.7, 0.8, 0.9, 1.0],\n",
    "    'colsample_bytree': [0.5, 0.6, 0.7, 0.8, 0.9, 1.0]\n",
    "}\n",
    "\n",
    "from sklearn.model_selection import GridSearchCV\n",
    "\n",
    "# Initialize model\n",
    "xgb_model = xgb.XGBRegressor(objective='reg:squarederror')\n",
    "\n",
    "# Set up GridSearchCV\n",
    "grid_search = GridSearchCV(\n",
    "    xgb_model, param_grid=param_dist,\n",
    "    scoring='neg_root_mean_squared_error',\n",
    "    cv=5, n_jobs=-1\n",
    ")\n",
    "\n",
    "# Fit the search\n",
    "grid_search.fit(X_train, y_train)\n",
    "\n",
    "# Output best parameters and best score\n",
    "print(\"Best Parameters:\", grid_search.best_params_)\n",
    "print(\"Best RMSE:\", -grid_search.best_score_)\n",
    "\n",
    "best_model = -grid_search.best_estimator_"
   ]
  },
  {
   "cell_type": "code",
   "execution_count": null,
   "metadata": {},
   "outputs": [],
   "source": []
  }
 ],
 "metadata": {
  "kernelspec": {
   "display_name": ".venv",
   "language": "python",
   "name": "python3"
  },
  "language_info": {
   "codemirror_mode": {
    "name": "ipython",
    "version": 3
   },
   "file_extension": ".py",
   "mimetype": "text/x-python",
   "name": "python",
   "nbconvert_exporter": "python",
   "pygments_lexer": "ipython3",
   "version": "3.11.6"
  }
 },
 "nbformat": 4,
 "nbformat_minor": 2
}
