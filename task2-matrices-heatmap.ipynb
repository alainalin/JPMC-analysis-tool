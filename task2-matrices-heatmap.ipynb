#input from task 1: pandas dataframes with price change %
