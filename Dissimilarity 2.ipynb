{
 "cells": [
  {
   "cell_type": "markdown",
   "metadata": {},
   "source": [
    "Task 3: Hierarchical Clustering"
   ]
  },
  {
   "cell_type": "code",
   "execution_count": 1,
   "metadata": {},
   "outputs": [],
   "source": [
    "# importing necessary libraries\n",
    "import os\n",
    "import numpy as np\n",
    "import pandas as pd\n",
    "import matplotlib as plt \n",
    "from scipy.cluster.hierarchy import dendrogram, linkage"
   ]
  },
  {
   "cell_type": "code",
   "execution_count": 2,
   "metadata": {},
   "outputs": [],
   "source": [
    "# Loading datasets\n",
    "filename = os.path.join(os.getcwd(), \"prices_pct_float.csv\")\n",
    "filename_2 = os.path.join(os.getcwd(),\"volume_float.csv\")\n"
   ]
  },
  {
   "cell_type": "code",
   "execution_count": 3,
   "metadata": {},
   "outputs": [],
   "source": [
    "# Saving it to a Pandas dataframe\n",
    "df_prices_pct = pd.read_csv(filename)\n",
    "df_volume = pd.read_csv(filename_2)\n"
   ]
  },
  {
   "cell_type": "code",
   "execution_count": 4,
   "metadata": {},
   "outputs": [
    {
     "name": "stdout",
     "output_type": "stream",
     "text": [
      "    Unnamed: 0         A       AAL      AAPL      ABBV      ABNB       ABT  \\\n",
      "0            0 -0.004186 -0.002602  0.001649  0.012173  0.005675  0.005444   \n",
      "1            1  0.020711  0.010435  0.007821  0.020353 -0.008839 -0.001934   \n",
      "2            2 -0.005541 -0.016351 -0.007097  0.018919  0.008369  0.010075   \n",
      "3            3  0.001205  0.006124  0.012392  0.005042 -0.002313  0.031745   \n",
      "4            4  0.000000  0.000000  0.000000  0.000000  0.000000  0.000000   \n",
      "..         ...       ...       ...       ...       ...       ...       ...   \n",
      "85          85 -0.000284 -0.001967 -0.006753 -0.002654  0.006767 -0.001768   \n",
      "86          86  0.010421  0.023645  0.014570 -0.001126 -0.007913 -0.001240   \n",
      "87          87  0.002736  0.022137 -0.003438  0.005790  0.006089  0.004523   \n",
      "88          88  0.000000  0.000000  0.000000  0.000000  0.000000  0.000000   \n",
      "89          89  0.000000  0.000000  0.000000  0.000000  0.000000  0.000000   \n",
      "\n",
      "        ACGL       ACN      ADBE  ...       WTW        WY      WYNN       XEL  \\\n",
      "0  -0.008260  0.022359  0.021297  ...  0.000549 -0.008078 -0.020967  0.013567   \n",
      "1  -0.011699  0.010276  0.016571  ... -0.006152 -0.000679  0.004735 -0.015527   \n",
      "2   0.004013  0.002474  0.005112  ...  0.003588  0.010526 -0.009426 -0.006164   \n",
      "3   0.004896 -0.011449  0.015934  ...  0.003811 -0.013441  0.007137 -0.001459   \n",
      "4   0.000000  0.000000  0.000000  ...  0.000000  0.000000  0.000000  0.000000   \n",
      "..       ...       ...       ...  ...       ...       ...       ...       ...   \n",
      "85  0.002982 -0.008784 -0.012821  ...  0.004965  0.001307 -0.022586 -0.003449   \n",
      "86  0.016215  0.008358  0.016217  ...  0.008256 -0.004896  0.003187  0.011701   \n",
      "87  0.002482  0.005115  0.008391  ...  0.000857  0.006603  0.017739 -0.002606   \n",
      "88  0.000000  0.000000  0.000000  ...  0.000000  0.000000  0.000000  0.000000   \n",
      "89  0.000000  0.000000  0.000000  ...  0.000000  0.000000  0.000000  0.000000   \n",
      "\n",
      "         XOM       XYL       YUM       ZBH      ZBRA       ZTS  \n",
      "0  -0.015553 -0.010894  0.015861  0.002829 -0.015798 -0.002843  \n",
      "1   0.003994  0.018745 -0.007136 -0.007052  0.015622  0.022923  \n",
      "2   0.007514 -0.020047  0.002135  0.006481 -0.000033  0.005460  \n",
      "3  -0.010705  0.003288 -0.006107 -0.000265 -0.021659  0.000792  \n",
      "4   0.000000  0.000000  0.000000  0.000000  0.000000  0.000000  \n",
      "..       ...       ...       ...       ...       ...       ...  \n",
      "85 -0.009857  0.002954  0.008550 -0.004186 -0.006387  0.004448  \n",
      "86  0.013817  0.002288 -0.002949  0.004203 -0.004537 -0.000109  \n",
      "87 -0.001608  0.012963 -0.002440  0.006889  0.009086  0.003281  \n",
      "88  0.000000  0.000000  0.000000  0.000000  0.000000  0.000000  \n",
      "89  0.000000  0.000000  0.000000  0.000000  0.000000  0.000000  \n",
      "\n",
      "[90 rows x 502 columns]\n"
     ]
    }
   ],
   "source": [
    "print(df_prices_pct)"
   ]
  },
  {
   "cell_type": "code",
   "execution_count": 5,
   "metadata": {},
   "outputs": [
    {
     "name": "stdout",
     "output_type": "stream",
     "text": [
      "Index(['Unnamed: 0', 'A', 'AAL', 'AAPL', 'ABBV', 'ABNB', 'ABT', 'ACGL', 'ACN',\n",
      "       'ADBE',\n",
      "       ...\n",
      "       'WTW', 'WY', 'WYNN', 'XEL', 'XOM', 'XYL', 'YUM', 'ZBH', 'ZBRA', 'ZTS'],\n",
      "      dtype='object', length=502)\n"
     ]
    }
   ],
   "source": [
    "print(df_prices_pct.columns)"
   ]
  },
  {
   "cell_type": "code",
   "execution_count": 6,
   "metadata": {},
   "outputs": [
    {
     "name": "stdout",
     "output_type": "stream",
     "text": [
      "Unnamed: 0      int64\n",
      "A             float64\n",
      "AAL           float64\n",
      "AAPL          float64\n",
      "ABBV          float64\n",
      "               ...   \n",
      "XYL           float64\n",
      "YUM           float64\n",
      "ZBH           float64\n",
      "ZBRA          float64\n",
      "ZTS           float64\n",
      "Length: 502, dtype: object\n"
     ]
    }
   ],
   "source": [
    "print(df_prices_pct.dtypes)"
   ]
  },
  {
   "cell_type": "code",
   "execution_count": 7,
   "metadata": {},
   "outputs": [],
   "source": [
    "df_prices_pct['Unnamed: 0'] = pd.to_numeric(df_prices_pct['Unnamed: 0'], errors='coerce')"
   ]
  },
  {
   "cell_type": "code",
   "execution_count": 8,
   "metadata": {},
   "outputs": [],
   "source": [
    "df_prices_pct['Unnamed: 0'] = df_prices_pct['Unnamed: 0'].astype(float)"
   ]
  },
  {
   "cell_type": "code",
   "execution_count": 9,
   "metadata": {},
   "outputs": [
    {
     "name": "stdout",
     "output_type": "stream",
     "text": [
      "Unnamed: 0    float64\n",
      "A             float64\n",
      "AAL           float64\n",
      "AAPL          float64\n",
      "ABBV          float64\n",
      "               ...   \n",
      "XYL           float64\n",
      "YUM           float64\n",
      "ZBH           float64\n",
      "ZBRA          float64\n",
      "ZTS           float64\n",
      "Length: 502, dtype: object\n"
     ]
    }
   ],
   "source": [
    "print(df_prices_pct.dtypes)"
   ]
  },
  {
   "cell_type": "code",
   "execution_count": 10,
   "metadata": {},
   "outputs": [
    {
     "name": "stdout",
     "output_type": "stream",
     "text": [
      "[ 0.  1.  2.  3.  4.  5.  6.  7.  8.  9. 10. 11. 12. 13. 14. 15. 16. 17.\n",
      " 18. 19. 20. 21. 22. 23. 24. 25. 26. 27. 28. 29. 30. 31. 32. 33. 34. 35.\n",
      " 36. 37. 38. 39. 40. 41. 42. 43. 44. 45. 46. 47. 48. 49. 50. 51. 52. 53.\n",
      " 54. 55. 56. 57. 58. 59. 60. 61. 62. 63. 64. 65. 66. 67. 68. 69. 70. 71.\n",
      " 72. 73. 74. 75. 76. 77. 78. 79. 80. 81. 82. 83. 84. 85. 86. 87. 88. 89.]\n"
     ]
    }
   ],
   "source": [
    "print(df_prices_pct['Unnamed: 0'].unique())"
   ]
  },
  {
   "cell_type": "code",
   "execution_count": 11,
   "metadata": {},
   "outputs": [
    {
     "name": "stdout",
     "output_type": "stream",
     "text": [
      "0\n"
     ]
    }
   ],
   "source": [
    "print(df_prices_pct['Unnamed: 0'].isna().sum())"
   ]
  },
  {
   "cell_type": "code",
   "execution_count": 12,
   "metadata": {},
   "outputs": [
    {
     "name": "stdout",
     "output_type": "stream",
     "text": [
      "   Unnamed: 0         A       AAL      AAPL      ABBV      ABNB       ABT  \\\n",
      "0         0.0 -0.004186 -0.002602  0.001649  0.012173  0.005675  0.005444   \n",
      "1         1.0  0.020711  0.010435  0.007821  0.020353 -0.008839 -0.001934   \n",
      "2         2.0 -0.005541 -0.016351 -0.007097  0.018919  0.008369  0.010075   \n",
      "3         3.0  0.001205  0.006124  0.012392  0.005042 -0.002313  0.031745   \n",
      "4         4.0  0.000000  0.000000  0.000000  0.000000  0.000000  0.000000   \n",
      "\n",
      "       ACGL       ACN      ADBE  ...       WTW        WY      WYNN       XEL  \\\n",
      "0 -0.008260  0.022359  0.021297  ...  0.000549 -0.008078 -0.020967  0.013567   \n",
      "1 -0.011699  0.010276  0.016571  ... -0.006152 -0.000679  0.004735 -0.015527   \n",
      "2  0.004013  0.002474  0.005112  ...  0.003588  0.010526 -0.009426 -0.006164   \n",
      "3  0.004896 -0.011449  0.015934  ...  0.003811 -0.013441  0.007137 -0.001459   \n",
      "4  0.000000  0.000000  0.000000  ...  0.000000  0.000000  0.000000  0.000000   \n",
      "\n",
      "        XOM       XYL       YUM       ZBH      ZBRA       ZTS  \n",
      "0 -0.015553 -0.010894  0.015861  0.002829 -0.015798 -0.002843  \n",
      "1  0.003994  0.018745 -0.007136 -0.007052  0.015622  0.022923  \n",
      "2  0.007514 -0.020047  0.002135  0.006481 -0.000033  0.005460  \n",
      "3 -0.010705  0.003288 -0.006107 -0.000265 -0.021659  0.000792  \n",
      "4  0.000000  0.000000  0.000000  0.000000  0.000000  0.000000  \n",
      "\n",
      "[5 rows x 502 columns]\n",
      "<class 'pandas.core.frame.DataFrame'>\n",
      "RangeIndex: 90 entries, 0 to 89\n",
      "Columns: 502 entries, Unnamed: 0 to ZTS\n",
      "dtypes: float64(502)\n",
      "memory usage: 353.1 KB\n",
      "None\n"
     ]
    }
   ],
   "source": [
    "print(df_prices_pct.head())\n",
    "print(df_prices_pct.info())"
   ]
  },
  {
   "cell_type": "code",
   "execution_count": 13,
   "metadata": {},
   "outputs": [
    {
     "data": {
      "text/plain": [
       "Unnamed: 0    float64\n",
       "A             float64\n",
       "AAL           float64\n",
       "AAPL          float64\n",
       "ABBV          float64\n",
       "               ...   \n",
       "XYL           float64\n",
       "YUM           float64\n",
       "ZBH           float64\n",
       "ZBRA          float64\n",
       "ZTS           float64\n",
       "Length: 502, dtype: object"
      ]
     },
     "execution_count": 13,
     "metadata": {},
     "output_type": "execute_result"
    }
   ],
   "source": [
    "df_prices_pct.dtypes"
   ]
  },
  {
   "cell_type": "code",
   "execution_count": 14,
   "metadata": {},
   "outputs": [
    {
     "name": "stdout",
     "output_type": "stream",
     "text": [
      "float64\n"
     ]
    }
   ],
   "source": [
    "print(df_prices_pct['Unnamed: 0'].dtype)"
   ]
  },
  {
   "cell_type": "code",
   "execution_count": 15,
   "metadata": {},
   "outputs": [
    {
     "name": "stdout",
     "output_type": "stream",
     "text": [
      "Index(['Unnamed: 0', 'A', 'AAL', 'AAPL', 'ABBV', 'ABNB', 'ABT', 'ACGL', 'ACN',\n",
      "       'ADBE',\n",
      "       ...\n",
      "       'WTW', 'WY', 'WYNN', 'XEL', 'XOM', 'XYL', 'YUM', 'ZBH', 'ZBRA', 'ZTS'],\n",
      "      dtype='object', length=502)\n"
     ]
    }
   ],
   "source": [
    "print(df_volume.columns)"
   ]
  },
  {
   "cell_type": "code",
   "execution_count": 16,
   "metadata": {},
   "outputs": [
    {
     "name": "stdout",
     "output_type": "stream",
     "text": [
      "Unnamed: 0      int64\n",
      "A             float64\n",
      "AAL           float64\n",
      "AAPL          float64\n",
      "ABBV          float64\n",
      "               ...   \n",
      "XYL           float64\n",
      "YUM           float64\n",
      "ZBH           float64\n",
      "ZBRA          float64\n",
      "ZTS           float64\n",
      "Length: 502, dtype: object\n"
     ]
    }
   ],
   "source": [
    "print(df_volume.dtypes)"
   ]
  },
  {
   "cell_type": "code",
   "execution_count": 17,
   "metadata": {},
   "outputs": [
    {
     "data": {
      "text/plain": [
       "0      0\n",
       "1      1\n",
       "2      2\n",
       "3      3\n",
       "4      4\n",
       "      ..\n",
       "58    58\n",
       "59    59\n",
       "60    60\n",
       "61    61\n",
       "62    62\n",
       "Name: Unnamed: 0, Length: 63, dtype: int64"
      ]
     },
     "execution_count": 17,
     "metadata": {},
     "output_type": "execute_result"
    }
   ],
   "source": [
    "df_volume['Unnamed: 0']"
   ]
  },
  {
   "cell_type": "code",
   "execution_count": 18,
   "metadata": {},
   "outputs": [],
   "source": [
    "df_volume['Unnamed: 0']=df_volume['Unnamed: 0'].astype(float)"
   ]
  },
  {
   "cell_type": "code",
   "execution_count": 19,
   "metadata": {},
   "outputs": [
    {
     "data": {
      "text/plain": [
       "0      0.0\n",
       "1      1.0\n",
       "2      2.0\n",
       "3      3.0\n",
       "4      4.0\n",
       "      ... \n",
       "58    58.0\n",
       "59    59.0\n",
       "60    60.0\n",
       "61    61.0\n",
       "62    62.0\n",
       "Name: Unnamed: 0, Length: 63, dtype: float64"
      ]
     },
     "execution_count": 19,
     "metadata": {},
     "output_type": "execute_result"
    }
   ],
   "source": [
    "df_volume['Unnamed: 0']"
   ]
  },
  {
   "cell_type": "code",
   "execution_count": 20,
   "metadata": {},
   "outputs": [
    {
     "name": "stdout",
     "output_type": "stream",
     "text": [
      "float64\n"
     ]
    }
   ],
   "source": [
    "print(df_volume['Unnamed: 0'].dtype)"
   ]
  },
  {
   "cell_type": "code",
   "execution_count": 21,
   "metadata": {},
   "outputs": [
    {
     "data": {
      "text/plain": [
       "Unnamed: 0    float64\n",
       "A             float64\n",
       "AAL           float64\n",
       "AAPL          float64\n",
       "ABBV          float64\n",
       "               ...   \n",
       "XYL           float64\n",
       "YUM           float64\n",
       "ZBH           float64\n",
       "ZBRA          float64\n",
       "ZTS           float64\n",
       "Length: 502, dtype: object"
      ]
     },
     "execution_count": 21,
     "metadata": {},
     "output_type": "execute_result"
    }
   ],
   "source": [
    "df_volume.dtypes"
   ]
  },
  {
   "cell_type": "code",
   "execution_count": 22,
   "metadata": {},
   "outputs": [],
   "source": [
    "df_prices_pct = df_prices_pct.drop('Unnamed: 0', axis=1)\n"
   ]
  },
  {
   "cell_type": "code",
   "execution_count": 23,
   "metadata": {},
   "outputs": [
    {
     "data": {
      "text/html": [
       "<div>\n",
       "<style scoped>\n",
       "    .dataframe tbody tr th:only-of-type {\n",
       "        vertical-align: middle;\n",
       "    }\n",
       "\n",
       "    .dataframe tbody tr th {\n",
       "        vertical-align: top;\n",
       "    }\n",
       "\n",
       "    .dataframe thead th {\n",
       "        text-align: right;\n",
       "    }\n",
       "</style>\n",
       "<table border=\"1\" class=\"dataframe\">\n",
       "  <thead>\n",
       "    <tr style=\"text-align: right;\">\n",
       "      <th></th>\n",
       "      <th>A</th>\n",
       "      <th>AAL</th>\n",
       "      <th>AAPL</th>\n",
       "      <th>ABBV</th>\n",
       "      <th>ABNB</th>\n",
       "      <th>ABT</th>\n",
       "      <th>ACGL</th>\n",
       "      <th>ACN</th>\n",
       "      <th>ADBE</th>\n",
       "      <th>ADI</th>\n",
       "      <th>...</th>\n",
       "      <th>WTW</th>\n",
       "      <th>WY</th>\n",
       "      <th>WYNN</th>\n",
       "      <th>XEL</th>\n",
       "      <th>XOM</th>\n",
       "      <th>XYL</th>\n",
       "      <th>YUM</th>\n",
       "      <th>ZBH</th>\n",
       "      <th>ZBRA</th>\n",
       "      <th>ZTS</th>\n",
       "    </tr>\n",
       "  </thead>\n",
       "  <tbody>\n",
       "    <tr>\n",
       "      <th>0</th>\n",
       "      <td>-0.004186</td>\n",
       "      <td>-0.002602</td>\n",
       "      <td>0.001649</td>\n",
       "      <td>0.012173</td>\n",
       "      <td>0.005675</td>\n",
       "      <td>0.005444</td>\n",
       "      <td>-0.008260</td>\n",
       "      <td>0.022359</td>\n",
       "      <td>0.021297</td>\n",
       "      <td>-0.002854</td>\n",
       "      <td>...</td>\n",
       "      <td>0.000549</td>\n",
       "      <td>-0.008078</td>\n",
       "      <td>-0.020967</td>\n",
       "      <td>0.013567</td>\n",
       "      <td>-0.015553</td>\n",
       "      <td>-0.010894</td>\n",
       "      <td>0.015861</td>\n",
       "      <td>0.002829</td>\n",
       "      <td>-0.015798</td>\n",
       "      <td>-0.002843</td>\n",
       "    </tr>\n",
       "    <tr>\n",
       "      <th>1</th>\n",
       "      <td>0.020711</td>\n",
       "      <td>0.010435</td>\n",
       "      <td>0.007821</td>\n",
       "      <td>0.020353</td>\n",
       "      <td>-0.008839</td>\n",
       "      <td>-0.001934</td>\n",
       "      <td>-0.011699</td>\n",
       "      <td>0.010276</td>\n",
       "      <td>0.016571</td>\n",
       "      <td>0.021896</td>\n",
       "      <td>...</td>\n",
       "      <td>-0.006152</td>\n",
       "      <td>-0.000679</td>\n",
       "      <td>0.004735</td>\n",
       "      <td>-0.015527</td>\n",
       "      <td>0.003994</td>\n",
       "      <td>0.018745</td>\n",
       "      <td>-0.007136</td>\n",
       "      <td>-0.007052</td>\n",
       "      <td>0.015622</td>\n",
       "      <td>0.022923</td>\n",
       "    </tr>\n",
       "    <tr>\n",
       "      <th>2</th>\n",
       "      <td>-0.005541</td>\n",
       "      <td>-0.016351</td>\n",
       "      <td>-0.007097</td>\n",
       "      <td>0.018919</td>\n",
       "      <td>0.008369</td>\n",
       "      <td>0.010075</td>\n",
       "      <td>0.004013</td>\n",
       "      <td>0.002474</td>\n",
       "      <td>0.005112</td>\n",
       "      <td>0.007341</td>\n",
       "      <td>...</td>\n",
       "      <td>0.003588</td>\n",
       "      <td>0.010526</td>\n",
       "      <td>-0.009426</td>\n",
       "      <td>-0.006164</td>\n",
       "      <td>0.007514</td>\n",
       "      <td>-0.020047</td>\n",
       "      <td>0.002135</td>\n",
       "      <td>0.006481</td>\n",
       "      <td>-0.000033</td>\n",
       "      <td>0.005460</td>\n",
       "    </tr>\n",
       "    <tr>\n",
       "      <th>3</th>\n",
       "      <td>0.001205</td>\n",
       "      <td>0.006124</td>\n",
       "      <td>0.012392</td>\n",
       "      <td>0.005042</td>\n",
       "      <td>-0.002313</td>\n",
       "      <td>0.031745</td>\n",
       "      <td>0.004896</td>\n",
       "      <td>-0.011449</td>\n",
       "      <td>0.015934</td>\n",
       "      <td>-0.011120</td>\n",
       "      <td>...</td>\n",
       "      <td>0.003811</td>\n",
       "      <td>-0.013441</td>\n",
       "      <td>0.007137</td>\n",
       "      <td>-0.001459</td>\n",
       "      <td>-0.010705</td>\n",
       "      <td>0.003288</td>\n",
       "      <td>-0.006107</td>\n",
       "      <td>-0.000265</td>\n",
       "      <td>-0.021659</td>\n",
       "      <td>0.000792</td>\n",
       "    </tr>\n",
       "    <tr>\n",
       "      <th>4</th>\n",
       "      <td>0.000000</td>\n",
       "      <td>0.000000</td>\n",
       "      <td>0.000000</td>\n",
       "      <td>0.000000</td>\n",
       "      <td>0.000000</td>\n",
       "      <td>0.000000</td>\n",
       "      <td>0.000000</td>\n",
       "      <td>0.000000</td>\n",
       "      <td>0.000000</td>\n",
       "      <td>0.000000</td>\n",
       "      <td>...</td>\n",
       "      <td>0.000000</td>\n",
       "      <td>0.000000</td>\n",
       "      <td>0.000000</td>\n",
       "      <td>0.000000</td>\n",
       "      <td>0.000000</td>\n",
       "      <td>0.000000</td>\n",
       "      <td>0.000000</td>\n",
       "      <td>0.000000</td>\n",
       "      <td>0.000000</td>\n",
       "      <td>0.000000</td>\n",
       "    </tr>\n",
       "  </tbody>\n",
       "</table>\n",
       "<p>5 rows × 501 columns</p>\n",
       "</div>"
      ],
      "text/plain": [
       "          A       AAL      AAPL      ABBV      ABNB       ABT      ACGL  \\\n",
       "0 -0.004186 -0.002602  0.001649  0.012173  0.005675  0.005444 -0.008260   \n",
       "1  0.020711  0.010435  0.007821  0.020353 -0.008839 -0.001934 -0.011699   \n",
       "2 -0.005541 -0.016351 -0.007097  0.018919  0.008369  0.010075  0.004013   \n",
       "3  0.001205  0.006124  0.012392  0.005042 -0.002313  0.031745  0.004896   \n",
       "4  0.000000  0.000000  0.000000  0.000000  0.000000  0.000000  0.000000   \n",
       "\n",
       "        ACN      ADBE       ADI  ...       WTW        WY      WYNN       XEL  \\\n",
       "0  0.022359  0.021297 -0.002854  ...  0.000549 -0.008078 -0.020967  0.013567   \n",
       "1  0.010276  0.016571  0.021896  ... -0.006152 -0.000679  0.004735 -0.015527   \n",
       "2  0.002474  0.005112  0.007341  ...  0.003588  0.010526 -0.009426 -0.006164   \n",
       "3 -0.011449  0.015934 -0.011120  ...  0.003811 -0.013441  0.007137 -0.001459   \n",
       "4  0.000000  0.000000  0.000000  ...  0.000000  0.000000  0.000000  0.000000   \n",
       "\n",
       "        XOM       XYL       YUM       ZBH      ZBRA       ZTS  \n",
       "0 -0.015553 -0.010894  0.015861  0.002829 -0.015798 -0.002843  \n",
       "1  0.003994  0.018745 -0.007136 -0.007052  0.015622  0.022923  \n",
       "2  0.007514 -0.020047  0.002135  0.006481 -0.000033  0.005460  \n",
       "3 -0.010705  0.003288 -0.006107 -0.000265 -0.021659  0.000792  \n",
       "4  0.000000  0.000000  0.000000  0.000000  0.000000  0.000000  \n",
       "\n",
       "[5 rows x 501 columns]"
      ]
     },
     "execution_count": 23,
     "metadata": {},
     "output_type": "execute_result"
    }
   ],
   "source": [
    "df_prices_pct.head()"
   ]
  },
  {
   "cell_type": "code",
   "execution_count": 24,
   "metadata": {},
   "outputs": [],
   "source": [
    "df_prices_pct.columns.name = None"
   ]
  },
  {
   "cell_type": "code",
   "execution_count": 25,
   "metadata": {},
   "outputs": [],
   "source": [
    "df_volume = df_volume.drop('Unnamed: 0', axis = 1)"
   ]
  },
  {
   "cell_type": "code",
   "execution_count": 26,
   "metadata": {},
   "outputs": [
    {
     "data": {
      "text/html": [
       "<div>\n",
       "<style scoped>\n",
       "    .dataframe tbody tr th:only-of-type {\n",
       "        vertical-align: middle;\n",
       "    }\n",
       "\n",
       "    .dataframe tbody tr th {\n",
       "        vertical-align: top;\n",
       "    }\n",
       "\n",
       "    .dataframe thead th {\n",
       "        text-align: right;\n",
       "    }\n",
       "</style>\n",
       "<table border=\"1\" class=\"dataframe\">\n",
       "  <thead>\n",
       "    <tr style=\"text-align: right;\">\n",
       "      <th></th>\n",
       "      <th>A</th>\n",
       "      <th>AAL</th>\n",
       "      <th>AAPL</th>\n",
       "      <th>ABBV</th>\n",
       "      <th>ABNB</th>\n",
       "      <th>ABT</th>\n",
       "      <th>ACGL</th>\n",
       "      <th>ACN</th>\n",
       "      <th>ADBE</th>\n",
       "      <th>ADI</th>\n",
       "      <th>...</th>\n",
       "      <th>WTW</th>\n",
       "      <th>WY</th>\n",
       "      <th>WYNN</th>\n",
       "      <th>XEL</th>\n",
       "      <th>XOM</th>\n",
       "      <th>XYL</th>\n",
       "      <th>YUM</th>\n",
       "      <th>ZBH</th>\n",
       "      <th>ZBRA</th>\n",
       "      <th>ZTS</th>\n",
       "    </tr>\n",
       "  </thead>\n",
       "  <tbody>\n",
       "    <tr>\n",
       "      <th>0</th>\n",
       "      <td>3114800.0</td>\n",
       "      <td>52899000.0</td>\n",
       "      <td>50080500.0</td>\n",
       "      <td>4467800.0</td>\n",
       "      <td>3843400.0</td>\n",
       "      <td>4915100.0</td>\n",
       "      <td>1747000.0</td>\n",
       "      <td>3596600.0</td>\n",
       "      <td>3967700.0</td>\n",
       "      <td>3087800.0</td>\n",
       "      <td>...</td>\n",
       "      <td>370300.0</td>\n",
       "      <td>2974200.0</td>\n",
       "      <td>1197200.0</td>\n",
       "      <td>3195100.0</td>\n",
       "      <td>19589300.0</td>\n",
       "      <td>2466300.0</td>\n",
       "      <td>1618100.0</td>\n",
       "      <td>1662800.0</td>\n",
       "      <td>305600.0</td>\n",
       "      <td>2142700.0</td>\n",
       "    </tr>\n",
       "    <tr>\n",
       "      <th>1</th>\n",
       "      <td>2893700.0</td>\n",
       "      <td>39161500.0</td>\n",
       "      <td>47471400.0</td>\n",
       "      <td>4215500.0</td>\n",
       "      <td>3048500.0</td>\n",
       "      <td>3880400.0</td>\n",
       "      <td>1217600.0</td>\n",
       "      <td>3498600.0</td>\n",
       "      <td>3183600.0</td>\n",
       "      <td>2616000.0</td>\n",
       "      <td>...</td>\n",
       "      <td>259000.0</td>\n",
       "      <td>2485500.0</td>\n",
       "      <td>1522900.0</td>\n",
       "      <td>3460000.0</td>\n",
       "      <td>19412200.0</td>\n",
       "      <td>1078400.0</td>\n",
       "      <td>2125200.0</td>\n",
       "      <td>1186700.0</td>\n",
       "      <td>219500.0</td>\n",
       "      <td>1304400.0</td>\n",
       "    </tr>\n",
       "    <tr>\n",
       "      <th>2</th>\n",
       "      <td>2707500.0</td>\n",
       "      <td>34340900.0</td>\n",
       "      <td>54156800.0</td>\n",
       "      <td>5100500.0</td>\n",
       "      <td>3121500.0</td>\n",
       "      <td>3302300.0</td>\n",
       "      <td>1480100.0</td>\n",
       "      <td>3002200.0</td>\n",
       "      <td>3295000.0</td>\n",
       "      <td>4016700.0</td>\n",
       "      <td>...</td>\n",
       "      <td>296100.0</td>\n",
       "      <td>2472400.0</td>\n",
       "      <td>1335000.0</td>\n",
       "      <td>2474900.0</td>\n",
       "      <td>14863500.0</td>\n",
       "      <td>973500.0</td>\n",
       "      <td>1944000.0</td>\n",
       "      <td>918100.0</td>\n",
       "      <td>248000.0</td>\n",
       "      <td>1870800.0</td>\n",
       "    </tr>\n",
       "    <tr>\n",
       "      <th>3</th>\n",
       "      <td>2269600.0</td>\n",
       "      <td>35840600.0</td>\n",
       "      <td>41181800.0</td>\n",
       "      <td>5186700.0</td>\n",
       "      <td>3463100.0</td>\n",
       "      <td>9835500.0</td>\n",
       "      <td>1132800.0</td>\n",
       "      <td>2363200.0</td>\n",
       "      <td>3235000.0</td>\n",
       "      <td>2757000.0</td>\n",
       "      <td>...</td>\n",
       "      <td>255600.0</td>\n",
       "      <td>4555100.0</td>\n",
       "      <td>1194600.0</td>\n",
       "      <td>2395000.0</td>\n",
       "      <td>13154100.0</td>\n",
       "      <td>1190300.0</td>\n",
       "      <td>1528900.0</td>\n",
       "      <td>902300.0</td>\n",
       "      <td>162800.0</td>\n",
       "      <td>2722200.0</td>\n",
       "    </tr>\n",
       "    <tr>\n",
       "      <th>4</th>\n",
       "      <td>2365300.0</td>\n",
       "      <td>29411400.0</td>\n",
       "      <td>53103900.0</td>\n",
       "      <td>3781700.0</td>\n",
       "      <td>2595600.0</td>\n",
       "      <td>8666600.0</td>\n",
       "      <td>803500.0</td>\n",
       "      <td>2626900.0</td>\n",
       "      <td>2684200.0</td>\n",
       "      <td>2208200.0</td>\n",
       "      <td>...</td>\n",
       "      <td>319100.0</td>\n",
       "      <td>3397900.0</td>\n",
       "      <td>1416200.0</td>\n",
       "      <td>3824500.0</td>\n",
       "      <td>13289200.0</td>\n",
       "      <td>873900.0</td>\n",
       "      <td>1467100.0</td>\n",
       "      <td>1070300.0</td>\n",
       "      <td>187300.0</td>\n",
       "      <td>1819400.0</td>\n",
       "    </tr>\n",
       "  </tbody>\n",
       "</table>\n",
       "<p>5 rows × 501 columns</p>\n",
       "</div>"
      ],
      "text/plain": [
       "           A         AAL        AAPL       ABBV       ABNB        ABT  \\\n",
       "0  3114800.0  52899000.0  50080500.0  4467800.0  3843400.0  4915100.0   \n",
       "1  2893700.0  39161500.0  47471400.0  4215500.0  3048500.0  3880400.0   \n",
       "2  2707500.0  34340900.0  54156800.0  5100500.0  3121500.0  3302300.0   \n",
       "3  2269600.0  35840600.0  41181800.0  5186700.0  3463100.0  9835500.0   \n",
       "4  2365300.0  29411400.0  53103900.0  3781700.0  2595600.0  8666600.0   \n",
       "\n",
       "        ACGL        ACN       ADBE        ADI  ...       WTW         WY  \\\n",
       "0  1747000.0  3596600.0  3967700.0  3087800.0  ...  370300.0  2974200.0   \n",
       "1  1217600.0  3498600.0  3183600.0  2616000.0  ...  259000.0  2485500.0   \n",
       "2  1480100.0  3002200.0  3295000.0  4016700.0  ...  296100.0  2472400.0   \n",
       "3  1132800.0  2363200.0  3235000.0  2757000.0  ...  255600.0  4555100.0   \n",
       "4   803500.0  2626900.0  2684200.0  2208200.0  ...  319100.0  3397900.0   \n",
       "\n",
       "        WYNN        XEL         XOM        XYL        YUM        ZBH  \\\n",
       "0  1197200.0  3195100.0  19589300.0  2466300.0  1618100.0  1662800.0   \n",
       "1  1522900.0  3460000.0  19412200.0  1078400.0  2125200.0  1186700.0   \n",
       "2  1335000.0  2474900.0  14863500.0   973500.0  1944000.0   918100.0   \n",
       "3  1194600.0  2395000.0  13154100.0  1190300.0  1528900.0   902300.0   \n",
       "4  1416200.0  3824500.0  13289200.0   873900.0  1467100.0  1070300.0   \n",
       "\n",
       "       ZBRA        ZTS  \n",
       "0  305600.0  2142700.0  \n",
       "1  219500.0  1304400.0  \n",
       "2  248000.0  1870800.0  \n",
       "3  162800.0  2722200.0  \n",
       "4  187300.0  1819400.0  \n",
       "\n",
       "[5 rows x 501 columns]"
      ]
     },
     "execution_count": 26,
     "metadata": {},
     "output_type": "execute_result"
    }
   ],
   "source": [
    "df_volume.head()"
   ]
  },
  {
   "cell_type": "code",
   "execution_count": 27,
   "metadata": {},
   "outputs": [
    {
     "data": {
      "text/plain": [
       "dtype('float64')"
      ]
     },
     "execution_count": 27,
     "metadata": {},
     "output_type": "execute_result"
    }
   ],
   "source": [
    "df_volume['A'].dtype"
   ]
  },
  {
   "cell_type": "code",
   "execution_count": 28,
   "metadata": {},
   "outputs": [],
   "source": [
    "df_volume.columns.name = None"
   ]
  },
  {
   "cell_type": "code",
   "execution_count": 29,
   "metadata": {},
   "outputs": [
    {
     "data": {
      "text/html": [
       "<div>\n",
       "<style scoped>\n",
       "    .dataframe tbody tr th:only-of-type {\n",
       "        vertical-align: middle;\n",
       "    }\n",
       "\n",
       "    .dataframe tbody tr th {\n",
       "        vertical-align: top;\n",
       "    }\n",
       "\n",
       "    .dataframe thead th {\n",
       "        text-align: right;\n",
       "    }\n",
       "</style>\n",
       "<table border=\"1\" class=\"dataframe\">\n",
       "  <thead>\n",
       "    <tr style=\"text-align: right;\">\n",
       "      <th></th>\n",
       "      <th>A</th>\n",
       "      <th>AAL</th>\n",
       "      <th>AAPL</th>\n",
       "      <th>ABBV</th>\n",
       "      <th>ABNB</th>\n",
       "      <th>ABT</th>\n",
       "      <th>ACGL</th>\n",
       "      <th>ACN</th>\n",
       "      <th>ADBE</th>\n",
       "      <th>ADI</th>\n",
       "      <th>...</th>\n",
       "      <th>WTW</th>\n",
       "      <th>WY</th>\n",
       "      <th>WYNN</th>\n",
       "      <th>XEL</th>\n",
       "      <th>XOM</th>\n",
       "      <th>XYL</th>\n",
       "      <th>YUM</th>\n",
       "      <th>ZBH</th>\n",
       "      <th>ZBRA</th>\n",
       "      <th>ZTS</th>\n",
       "    </tr>\n",
       "  </thead>\n",
       "  <tbody>\n",
       "    <tr>\n",
       "      <th>0</th>\n",
       "      <td>3114800.0</td>\n",
       "      <td>52899000.0</td>\n",
       "      <td>50080500.0</td>\n",
       "      <td>4467800.0</td>\n",
       "      <td>3843400.0</td>\n",
       "      <td>4915100.0</td>\n",
       "      <td>1747000.0</td>\n",
       "      <td>3596600.0</td>\n",
       "      <td>3967700.0</td>\n",
       "      <td>3087800.0</td>\n",
       "      <td>...</td>\n",
       "      <td>370300.0</td>\n",
       "      <td>2974200.0</td>\n",
       "      <td>1197200.0</td>\n",
       "      <td>3195100.0</td>\n",
       "      <td>19589300.0</td>\n",
       "      <td>2466300.0</td>\n",
       "      <td>1618100.0</td>\n",
       "      <td>1662800.0</td>\n",
       "      <td>305600.0</td>\n",
       "      <td>2142700.0</td>\n",
       "    </tr>\n",
       "    <tr>\n",
       "      <th>1</th>\n",
       "      <td>2893700.0</td>\n",
       "      <td>39161500.0</td>\n",
       "      <td>47471400.0</td>\n",
       "      <td>4215500.0</td>\n",
       "      <td>3048500.0</td>\n",
       "      <td>3880400.0</td>\n",
       "      <td>1217600.0</td>\n",
       "      <td>3498600.0</td>\n",
       "      <td>3183600.0</td>\n",
       "      <td>2616000.0</td>\n",
       "      <td>...</td>\n",
       "      <td>259000.0</td>\n",
       "      <td>2485500.0</td>\n",
       "      <td>1522900.0</td>\n",
       "      <td>3460000.0</td>\n",
       "      <td>19412200.0</td>\n",
       "      <td>1078400.0</td>\n",
       "      <td>2125200.0</td>\n",
       "      <td>1186700.0</td>\n",
       "      <td>219500.0</td>\n",
       "      <td>1304400.0</td>\n",
       "    </tr>\n",
       "    <tr>\n",
       "      <th>2</th>\n",
       "      <td>2707500.0</td>\n",
       "      <td>34340900.0</td>\n",
       "      <td>54156800.0</td>\n",
       "      <td>5100500.0</td>\n",
       "      <td>3121500.0</td>\n",
       "      <td>3302300.0</td>\n",
       "      <td>1480100.0</td>\n",
       "      <td>3002200.0</td>\n",
       "      <td>3295000.0</td>\n",
       "      <td>4016700.0</td>\n",
       "      <td>...</td>\n",
       "      <td>296100.0</td>\n",
       "      <td>2472400.0</td>\n",
       "      <td>1335000.0</td>\n",
       "      <td>2474900.0</td>\n",
       "      <td>14863500.0</td>\n",
       "      <td>973500.0</td>\n",
       "      <td>1944000.0</td>\n",
       "      <td>918100.0</td>\n",
       "      <td>248000.0</td>\n",
       "      <td>1870800.0</td>\n",
       "    </tr>\n",
       "    <tr>\n",
       "      <th>3</th>\n",
       "      <td>2269600.0</td>\n",
       "      <td>35840600.0</td>\n",
       "      <td>41181800.0</td>\n",
       "      <td>5186700.0</td>\n",
       "      <td>3463100.0</td>\n",
       "      <td>9835500.0</td>\n",
       "      <td>1132800.0</td>\n",
       "      <td>2363200.0</td>\n",
       "      <td>3235000.0</td>\n",
       "      <td>2757000.0</td>\n",
       "      <td>...</td>\n",
       "      <td>255600.0</td>\n",
       "      <td>4555100.0</td>\n",
       "      <td>1194600.0</td>\n",
       "      <td>2395000.0</td>\n",
       "      <td>13154100.0</td>\n",
       "      <td>1190300.0</td>\n",
       "      <td>1528900.0</td>\n",
       "      <td>902300.0</td>\n",
       "      <td>162800.0</td>\n",
       "      <td>2722200.0</td>\n",
       "    </tr>\n",
       "    <tr>\n",
       "      <th>4</th>\n",
       "      <td>2365300.0</td>\n",
       "      <td>29411400.0</td>\n",
       "      <td>53103900.0</td>\n",
       "      <td>3781700.0</td>\n",
       "      <td>2595600.0</td>\n",
       "      <td>8666600.0</td>\n",
       "      <td>803500.0</td>\n",
       "      <td>2626900.0</td>\n",
       "      <td>2684200.0</td>\n",
       "      <td>2208200.0</td>\n",
       "      <td>...</td>\n",
       "      <td>319100.0</td>\n",
       "      <td>3397900.0</td>\n",
       "      <td>1416200.0</td>\n",
       "      <td>3824500.0</td>\n",
       "      <td>13289200.0</td>\n",
       "      <td>873900.0</td>\n",
       "      <td>1467100.0</td>\n",
       "      <td>1070300.0</td>\n",
       "      <td>187300.0</td>\n",
       "      <td>1819400.0</td>\n",
       "    </tr>\n",
       "  </tbody>\n",
       "</table>\n",
       "<p>5 rows × 501 columns</p>\n",
       "</div>"
      ],
      "text/plain": [
       "           A         AAL        AAPL       ABBV       ABNB        ABT  \\\n",
       "0  3114800.0  52899000.0  50080500.0  4467800.0  3843400.0  4915100.0   \n",
       "1  2893700.0  39161500.0  47471400.0  4215500.0  3048500.0  3880400.0   \n",
       "2  2707500.0  34340900.0  54156800.0  5100500.0  3121500.0  3302300.0   \n",
       "3  2269600.0  35840600.0  41181800.0  5186700.0  3463100.0  9835500.0   \n",
       "4  2365300.0  29411400.0  53103900.0  3781700.0  2595600.0  8666600.0   \n",
       "\n",
       "        ACGL        ACN       ADBE        ADI  ...       WTW         WY  \\\n",
       "0  1747000.0  3596600.0  3967700.0  3087800.0  ...  370300.0  2974200.0   \n",
       "1  1217600.0  3498600.0  3183600.0  2616000.0  ...  259000.0  2485500.0   \n",
       "2  1480100.0  3002200.0  3295000.0  4016700.0  ...  296100.0  2472400.0   \n",
       "3  1132800.0  2363200.0  3235000.0  2757000.0  ...  255600.0  4555100.0   \n",
       "4   803500.0  2626900.0  2684200.0  2208200.0  ...  319100.0  3397900.0   \n",
       "\n",
       "        WYNN        XEL         XOM        XYL        YUM        ZBH  \\\n",
       "0  1197200.0  3195100.0  19589300.0  2466300.0  1618100.0  1662800.0   \n",
       "1  1522900.0  3460000.0  19412200.0  1078400.0  2125200.0  1186700.0   \n",
       "2  1335000.0  2474900.0  14863500.0   973500.0  1944000.0   918100.0   \n",
       "3  1194600.0  2395000.0  13154100.0  1190300.0  1528900.0   902300.0   \n",
       "4  1416200.0  3824500.0  13289200.0   873900.0  1467100.0  1070300.0   \n",
       "\n",
       "       ZBRA        ZTS  \n",
       "0  305600.0  2142700.0  \n",
       "1  219500.0  1304400.0  \n",
       "2  248000.0  1870800.0  \n",
       "3  162800.0  2722200.0  \n",
       "4  187300.0  1819400.0  \n",
       "\n",
       "[5 rows x 501 columns]"
      ]
     },
     "execution_count": 29,
     "metadata": {},
     "output_type": "execute_result"
    }
   ],
   "source": [
    "df_volume.head()"
   ]
  },
  {
   "cell_type": "code",
   "execution_count": 30,
   "metadata": {},
   "outputs": [],
   "source": [
    "numeric_df_prices_pct = df_prices_pct.select_dtypes(include=['number'])\n",
    "\n",
    "prices_pct_array = numeric_df_prices_pct.values"
   ]
  },
  {
   "cell_type": "code",
   "execution_count": 34,
   "metadata": {},
   "outputs": [
    {
     "name": "stdout",
     "output_type": "stream",
     "text": [
      "[[-4.18557293e-03 -2.60188497e-03  1.64928675e-03 ...  2.82885278e-03\n",
      "  -1.57982505e-02 -2.84268327e-03]\n",
      " [ 2.07106699e-02  1.04347727e-02  7.82089822e-03 ... -7.05218237e-03\n",
      "   1.56224565e-02  2.29229592e-02]\n",
      " [-5.54060343e-03 -1.63510828e-02 -7.09656563e-03 ...  6.48086701e-03\n",
      "  -3.25520833e-05  5.46010651e-03]\n",
      " ...\n",
      " [ 2.73626179e-03  2.21366251e-02 -3.43789246e-03 ...  6.88934271e-03\n",
      "   9.08644044e-03  3.28069389e-03]\n",
      " [ 0.00000000e+00  0.00000000e+00  0.00000000e+00 ...  0.00000000e+00\n",
      "   0.00000000e+00  0.00000000e+00]\n",
      " [ 0.00000000e+00  0.00000000e+00  0.00000000e+00 ...  0.00000000e+00\n",
      "   0.00000000e+00  0.00000000e+00]]\n"
     ]
    }
   ],
   "source": [
    "print(prices_pct_array)"
   ]
  },
  {
   "cell_type": "code",
   "execution_count": 31,
   "metadata": {},
   "outputs": [],
   "source": [
    "numeric_df_volume = df_volume.select_dtypes(include = ['number'])\n",
    "\n",
    "volume_array = numeric_df_volume.values"
   ]
  },
  {
   "cell_type": "code",
   "execution_count": 32,
   "metadata": {},
   "outputs": [
    {
     "name": "stdout",
     "output_type": "stream",
     "text": [
      "[[ 3114800. 52899000. 50080500. ...  1662800.   305600.  2142700.]\n",
      " [ 2893700. 39161500. 47471400. ...  1186700.   219500.  1304400.]\n",
      " [ 2707500. 34340900. 54156800. ...   918100.   248000.  1870800.]\n",
      " ...\n",
      " [ 1089900. 20533800. 38052200. ...   687000.   211200.  1485400.]\n",
      " [ 1577400. 22240100. 51906300. ...   801500.   319200.  1359900.]\n",
      " [ 1570700. 26521400. 52990800. ...  1584900.   453500.  2328500.]]\n"
     ]
    }
   ],
   "source": [
    "print(volume_array)"
   ]
  },
  {
   "cell_type": "code",
   "execution_count": 35,
   "metadata": {},
   "outputs": [
    {
     "data": {
      "text/plain": [
       "A       float64\n",
       "AAL     float64\n",
       "AAPL    float64\n",
       "ABBV    float64\n",
       "ABNB    float64\n",
       "         ...   \n",
       "XYL     float64\n",
       "YUM     float64\n",
       "ZBH     float64\n",
       "ZBRA    float64\n",
       "ZTS     float64\n",
       "Length: 501, dtype: object"
      ]
     },
     "execution_count": 35,
     "metadata": {},
     "output_type": "execute_result"
    }
   ],
   "source": [
    "df_prices_pct.dtypes"
   ]
  },
  {
   "cell_type": "code",
   "execution_count": 33,
   "metadata": {},
   "outputs": [
    {
     "ename": "ValueError",
     "evalue": "could not convert string to float: 'A'",
     "output_type": "error",
     "traceback": [
      "\u001b[1;31m---------------------------------------------------------------------------\u001b[0m",
      "\u001b[1;31mValueError\u001b[0m                                Traceback (most recent call last)",
      "Cell \u001b[1;32mIn[33], line 4\u001b[0m\n\u001b[0;32m      1\u001b[0m \u001b[38;5;66;03m# Turning data into a set of points\u001b[39;00m\n\u001b[0;32m      2\u001b[0m data \u001b[38;5;241m=\u001b[39m \u001b[38;5;28mlist\u001b[39m(\u001b[38;5;28mzip\u001b[39m(df_prices_pct, df_volume))\n\u001b[1;32m----> 4\u001b[0m linkage_data \u001b[38;5;241m=\u001b[39m \u001b[43mlinkage\u001b[49m\u001b[43m(\u001b[49m\u001b[43mdata\u001b[49m\u001b[43m,\u001b[49m\u001b[43m \u001b[49m\u001b[43mmethod\u001b[49m\u001b[38;5;241;43m=\u001b[39;49m\u001b[38;5;124;43m'\u001b[39;49m\u001b[38;5;124;43maverage\u001b[39;49m\u001b[38;5;124;43m'\u001b[39;49m\u001b[43m)\u001b[49m\n\u001b[0;32m      6\u001b[0m dendrogram(linkage_data)\n\u001b[0;32m      7\u001b[0m plt\u001b[38;5;241m.\u001b[39mshow()\n",
      "File \u001b[1;32m~\\AppData\\Local\\Packages\\PythonSoftwareFoundation.Python.3.11_qbz5n2kfra8p0\\LocalCache\\local-packages\\Python311\\site-packages\\scipy\\cluster\\hierarchy.py:1006\u001b[0m, in \u001b[0;36mlinkage\u001b[1;34m(y, method, metric, optimal_ordering)\u001b[0m\n\u001b[0;32m    800\u001b[0m \u001b[38;5;250m\u001b[39m\u001b[38;5;124;03m\"\"\"\u001b[39;00m\n\u001b[0;32m    801\u001b[0m \u001b[38;5;124;03mPerform hierarchical/agglomerative clustering.\u001b[39;00m\n\u001b[0;32m    802\u001b[0m \n\u001b[1;32m   (...)\u001b[0m\n\u001b[0;32m   1003\u001b[0m \u001b[38;5;124;03m>>> plt.show()\u001b[39;00m\n\u001b[0;32m   1004\u001b[0m \u001b[38;5;124;03m\"\"\"\u001b[39;00m\n\u001b[0;32m   1005\u001b[0m xp \u001b[38;5;241m=\u001b[39m array_namespace(y)\n\u001b[1;32m-> 1006\u001b[0m y \u001b[38;5;241m=\u001b[39m \u001b[43m_asarray\u001b[49m\u001b[43m(\u001b[49m\u001b[43my\u001b[49m\u001b[43m,\u001b[49m\u001b[43m \u001b[49m\u001b[43morder\u001b[49m\u001b[38;5;241;43m=\u001b[39;49m\u001b[38;5;124;43m'\u001b[39;49m\u001b[38;5;124;43mC\u001b[39;49m\u001b[38;5;124;43m'\u001b[39;49m\u001b[43m,\u001b[49m\u001b[43m \u001b[49m\u001b[43mdtype\u001b[49m\u001b[38;5;241;43m=\u001b[39;49m\u001b[43mxp\u001b[49m\u001b[38;5;241;43m.\u001b[39;49m\u001b[43mfloat64\u001b[49m\u001b[43m,\u001b[49m\u001b[43m \u001b[49m\u001b[43mxp\u001b[49m\u001b[38;5;241;43m=\u001b[39;49m\u001b[43mxp\u001b[49m\u001b[43m)\u001b[49m\n\u001b[0;32m   1008\u001b[0m \u001b[38;5;28;01mif\u001b[39;00m method \u001b[38;5;129;01mnot\u001b[39;00m \u001b[38;5;129;01min\u001b[39;00m _LINKAGE_METHODS:\n\u001b[0;32m   1009\u001b[0m     \u001b[38;5;28;01mraise\u001b[39;00m \u001b[38;5;167;01mValueError\u001b[39;00m(\u001b[38;5;124mf\u001b[39m\u001b[38;5;124m\"\u001b[39m\u001b[38;5;124mInvalid method: \u001b[39m\u001b[38;5;132;01m{\u001b[39;00mmethod\u001b[38;5;132;01m}\u001b[39;00m\u001b[38;5;124m\"\u001b[39m)\n",
      "File \u001b[1;32m~\\AppData\\Local\\Packages\\PythonSoftwareFoundation.Python.3.11_qbz5n2kfra8p0\\LocalCache\\local-packages\\Python311\\site-packages\\scipy\\_lib\\_array_api.py:165\u001b[0m, in \u001b[0;36m_asarray\u001b[1;34m(array, dtype, order, copy, xp, check_finite, subok)\u001b[0m\n\u001b[0;32m    163\u001b[0m     array \u001b[38;5;241m=\u001b[39m np\u001b[38;5;241m.\u001b[39masanyarray(array, order\u001b[38;5;241m=\u001b[39morder, dtype\u001b[38;5;241m=\u001b[39mdtype)\n\u001b[0;32m    164\u001b[0m \u001b[38;5;28;01melse\u001b[39;00m:\n\u001b[1;32m--> 165\u001b[0m     array \u001b[38;5;241m=\u001b[39m \u001b[43mnp\u001b[49m\u001b[38;5;241;43m.\u001b[39;49m\u001b[43masarray\u001b[49m\u001b[43m(\u001b[49m\u001b[43marray\u001b[49m\u001b[43m,\u001b[49m\u001b[43m \u001b[49m\u001b[43morder\u001b[49m\u001b[38;5;241;43m=\u001b[39;49m\u001b[43morder\u001b[49m\u001b[43m,\u001b[49m\u001b[43m \u001b[49m\u001b[43mdtype\u001b[49m\u001b[38;5;241;43m=\u001b[39;49m\u001b[43mdtype\u001b[49m\u001b[43m)\u001b[49m\n\u001b[0;32m    167\u001b[0m \u001b[38;5;66;03m# At this point array is a NumPy ndarray. We convert it to an array\u001b[39;00m\n\u001b[0;32m    168\u001b[0m \u001b[38;5;66;03m# container that is consistent with the input's namespace.\u001b[39;00m\n\u001b[0;32m    169\u001b[0m array \u001b[38;5;241m=\u001b[39m xp\u001b[38;5;241m.\u001b[39masarray(array)\n",
      "\u001b[1;31mValueError\u001b[0m: could not convert string to float: 'A'"
     ]
    }
   ],
   "source": [
    "# Turning data into a set of points\n",
    "data = list(zip(df_prices_pct, df_volume))\n",
    "\n",
    "linkage_data = linkage(data, method='average')\n",
    "\n",
    "dendrogram(linkage_data)\n",
    "plt.show()"
   ]
  }
 ],
 "metadata": {
  "kernelspec": {
   "display_name": "Python 3",
   "language": "python",
   "name": "python3"
  },
  "language_info": {
   "codemirror_mode": {
    "name": "ipython",
    "version": 3
   },
   "file_extension": ".py",
   "mimetype": "text/x-python",
   "name": "python",
   "nbconvert_exporter": "python",
   "pygments_lexer": "ipython3",
   "version": "3.11.9"
  }
 },
 "nbformat": 4,
 "nbformat_minor": 2
}
