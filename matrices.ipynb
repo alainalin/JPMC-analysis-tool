{
 "cells": [
  {
   "cell_type": "code",
   "execution_count": 2,
   "metadata": {
    "metadata": {}
   },
   "outputs": [],
   "source": [
    "## input will be from preprocess.py (task 1)\n",
    "# a Pandas dataframe with rows as dates, columns as daily return(float; daily % change in the value of the investment)\n",
    "# right now assuming that each company is a separate df\n",
    "\n",
    "# start with writing a function to create matrix for one single company"
   ]
  }
 ],
 "metadata": {
  "kernelspec": {
   "display_name": ".venv",
   "language": "python",
   "name": "python3"
  },
  "language_info": {
   "codemirror_mode": {
    "name": "ipython",
    "version": 3
   },
   "file_extension": ".py",
   "mimetype": "text/x-python",
   "name": "python",
   "nbconvert_exporter": "python",
   "pygments_lexer": "ipython3",
   "version": "3.11.6"
  }
 },
 "nbformat": 4,
 "nbformat_minor": 2
}
